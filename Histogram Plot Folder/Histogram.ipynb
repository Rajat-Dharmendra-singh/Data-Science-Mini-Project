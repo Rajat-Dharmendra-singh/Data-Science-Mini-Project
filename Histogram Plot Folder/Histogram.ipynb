{
 "cells": [
  {
   "cell_type": "code",
   "execution_count": null,
   "id": "852d066f",
   "metadata": {
    "vscode": {
     "languageId": "plaintext"
    }
   },
   "outputs": [],
   "source": [
    "# Histogram.\n",
    "\n",
    "# Histogram are used to when we have bunch of data then we represent the data into the histogram.\n",
    "# Plotting Histogram.\n",
    "\n",
    "import numpy as np\n",
    "import pandas as pd\n",
    "import matplotlib.pyplot as plt\n",
    "\n",
    "bunch=[0,20,40,60,80,100]\n",
    "x=[10,20,30,40,50,60]\n",
    "plt.hist(x,bins=bunch,color='green')\n",
    "plt.xlabel('Bunch')\n",
    "plt.ylabel('Data')\n",
    "# plt.legend(['OK'])\n",
    "plt.savefig('Histogram.png',dpi=300)\n",
    "plt.show()"
   ]
  }
 ],
 "metadata": {
  "language_info": {
   "name": "python"
  }
 },
 "nbformat": 4,
 "nbformat_minor": 5
}
