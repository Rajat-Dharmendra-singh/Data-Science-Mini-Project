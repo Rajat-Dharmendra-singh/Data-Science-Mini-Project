{
 "cells": [
  {
   "cell_type": "code",
   "execution_count": null,
   "id": "15cf8c41",
   "metadata": {
    "vscode": {
     "languageId": "plaintext"
    }
   },
   "outputs": [],
   "source": [
    "import pandas as pd\n",
    "import numpy as np \n",
    "import matplotlib.pyplot as plt\n",
    "\n",
    "# For importing csv file.\n",
    "# Plotting multiple graph.\n",
    "dict={'Year':[2000,2001,2002,2003,2004],\n",
    "      'India':[5000,6000,7000,8000,9000],\n",
    "      'China':[4000,5000,6000,7000,8000],\n",
    "      'America':[8000,9000,15000,18000,20000],\n",
    "      'Japan':[3000,4000,8000,9000,15000]}\n",
    "\n",
    "mobile=pd.DataFrame(dict)\n",
    "mobile\n",
    "\n",
    "# For importing csv file.\n",
    "# Plotting multiple graph.\n",
    "\n",
    "plt.plot(mobile.Year,mobile.India,'b*-', label= 'India')\n",
    "plt.plot(mobile.Year,mobile.China,'yd--',label='China')\n",
    "plt.plot(mobile.Year,mobile.America,'gs--',label='America')\n",
    "plt.plot(mobile.Year,mobile.Japan,'rd--',label='Japan')\n",
    "plt.xlabel('Year')\n",
    "plt.ylabel('Price')\n",
    "plt.title('Mobile Price Year wise',fontdict={'fontsize':20})\n",
    "plt.legend()\n",
    "plt.savefig('Firstgraph',dpi=200)\n",
    "plt.show()"
   ]
  }
 ],
 "metadata": {
  "language_info": {
   "name": "python"
  }
 },
 "nbformat": 4,
 "nbformat_minor": 5
}
