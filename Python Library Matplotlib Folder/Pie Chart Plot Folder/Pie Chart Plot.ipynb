{
 "cells": [
  {
   "cell_type": "code",
   "execution_count": null,
   "id": "8dd9d1e7",
   "metadata": {
    "vscode": {
     "languageId": "plaintext"
    }
   },
   "outputs": [],
   "source": [
    "# Piechart.\n",
    "\n",
    "# For plotting Pie chart.\n",
    " \n",
    "import numpy as np\n",
    "import pandas as pd\n",
    "import matplotlib.pyplot as plt\n",
    " \n",
    "y=np.array([25,30,35,40])\n",
    "name=['Rajat','Krishna','Rishabh','Harsh']\n",
    "plt.pie(y,labels=name)\n",
    "plt.show()\n",
    "\n",
    "# Explode\n",
    "nameexplode=[0,0,0,0.2]\n",
    "plt.pie(y,labels=name,explode=nameexplode)\n",
    "plt.show()\n",
    "\n",
    "# Shadow are represent 3d structure display.\n",
    "plt.pie(y,labels=name,explode=nameexplode,shadow=True)\n",
    "plt.savefig('pie.png',dpi=300)\n",
    "plt.show()\n",
    "\n",
    "# When the user want the different color in our pie chart then user used color within the pie function.\n",
    "\n",
    "mycolor=['b','hotpink','black','m']\n",
    "plt.pie(y,labels=name,explode=nameexplode,shadow=True,colors=mycolor)\n",
    "plt.legend()\n",
    "plt.savefig('Pie.png',dpi=300)\n",
    "plt.show()\n"
   ]
  }
 ],
 "metadata": {
  "language_info": {
   "name": "python"
  }
 },
 "nbformat": 4,
 "nbformat_minor": 5
}
