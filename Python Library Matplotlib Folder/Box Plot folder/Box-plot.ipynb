{
 "cells": [
  {
   "cell_type": "code",
   "execution_count": null,
   "id": "f56d812b",
   "metadata": {
    "vscode": {
     "languageId": "plaintext"
    }
   },
   "outputs": [],
   "source": [
    "# For plotting Single box-plot.\n",
    "\n",
    "import numpy as np \n",
    "import pandas as pd \n",
    "import matplotlib.pyplot as plt\n",
    "\n",
    "# Box plotting get the result within the lower range to upper range graph will plot.\n",
    "\n",
    "test=np.random.normal(200,50,400)\n",
    "plt.boxplot(test)\n",
    "plt.show()\n",
    "\n",
    "# For plotting multiple Box-plot.\n",
    "\n",
    "test1=np.random.normal(200,50,400)\n",
    "test2=np.random.normal(100,50,300)\n",
    "test3=np.random.normal(150,100,300)\n",
    "test4=np.random.normal(250,75,400)\n",
    "data=[test1,test2,test3,test4]\n",
    "plt.boxplot(data)\n",
    "plt.title('Box-plot Graph')\n",
    "plt.xlabel('x-axis')\n",
    "plt.ylabel('y-axis')\n",
    "# plt.legend(['ok'])\n",
    "plt.savefig('Box-plot.png',dpi=300)\n",
    "plt.show()"
   ]
  }
 ],
 "metadata": {
  "language_info": {
   "name": "python"
  }
 },
 "nbformat": 4,
 "nbformat_minor": 5
}
