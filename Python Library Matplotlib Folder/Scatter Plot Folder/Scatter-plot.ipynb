{
 "cells": [
  {
   "cell_type": "code",
   "execution_count": null,
   "id": "c23bb55b",
   "metadata": {
    "vscode": {
     "languageId": "plaintext"
    }
   },
   "outputs": [],
   "source": [
    "# For Plotting Single Scatter Plot.\n",
    "\n",
    "import numpy as np\n",
    "import matplotlib.pyplot as plt\n",
    "import pandas as pd\n",
    "\n",
    "x=[1,2,3,4,5]\n",
    "y=[5,6,7,8,9]\n",
    "plt.scatter(x,y)\n",
    "plt.xlabel('x-axis')\n",
    "plt.ylabel('y-axis')\n",
    "plt.show()\n",
    "\n",
    "\n",
    "# For Plotting Multiple Scatter Plot.\n",
    "\n",
    "x=[1,2,3,4,5]\n",
    "y=[5,6,7,8,9]\n",
    "a=[7,4,3,8,2]\n",
    "b=[9,5,3,6,1]\n",
    "c=[11,10,9,8,7]\n",
    "d=[4,5,9,8,7]\n",
    "\n",
    "plt.scatter(x,y)\n",
    "plt.scatter(a,b)\n",
    "plt.scatter(c,d)\n",
    "plt.title('Scatter Plot')\n",
    "plt.xlabel('x-axis')\n",
    "plt.ylabel('y-axis')\n",
    "plt.savefig('Scatter-plot.png',dpi=300)\n",
    "plt.show()"
   ]
  }
 ],
 "metadata": {
  "language_info": {
   "name": "python"
  }
 },
 "nbformat": 4,
 "nbformat_minor": 5
}
